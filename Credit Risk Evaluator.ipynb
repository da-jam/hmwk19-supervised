{
 "cells": [
  {
   "cell_type": "code",
   "execution_count": 2,
   "metadata": {},
   "outputs": [],
   "source": [
    "import numpy as np\n",
    "import pandas as pd\n",
    "from pathlib import Path"
   ]
  },
  {
   "cell_type": "code",
   "execution_count": 3,
   "metadata": {},
   "outputs": [],
   "source": [
    "train_df = pd.read_csv(Path('Resources/2019loans.csv'))\n",
    "test_df = pd.read_csv(Path('Resources/2020Q1loans.csv'))"
   ]
  },
  {
   "cell_type": "code",
   "execution_count": 6,
   "metadata": {},
   "outputs": [
    {
     "name": "stdout",
     "output_type": "stream",
     "text": [
      "(12180, 84)\n",
      "(4702, 84)\n"
     ]
    }
   ],
   "source": [
    "# Clean data, examine dfs\n",
    "\n",
    "# train data\n",
    "# c = train_df.columns.values.tolist()\n",
    "# clean = []\n",
    "# for col in c:\n",
    "#  if train_df[col].dtype == \"object\":\n",
    "#    clean.append(col)\n",
    "# print(clean)\n",
    "# train_df.describe\n",
    "# test_df.shape\n",
    "# train_X = train_df.drop([train_df[1], train_df[2])\n",
    "test_df.iloc[1]\n",
    "# train_df['loan_status']\n",
    "\n",
    "#drop index columns, and results columns\n",
    "train_df1 = train_df.drop(['Unnamed: 0', 'index'], axis=1)\n",
    "test_df1 =test_df.drop(['Unnamed: 0', 'index'], axis=1)\n",
    "print(train_df1.shape)\n",
    "print(test_df1.shape)"
   ]
  },
  {
   "cell_type": "code",
   "execution_count": 8,
   "metadata": {},
   "outputs": [
    {
     "name": "stdout",
     "output_type": "stream",
     "text": [
      "(4702, 91)\n"
     ]
    }
   ],
   "source": [
    "# Convert categorical data to numeric and separate target feature for test data\n",
    "test_df_dummies = pd.get_dummies(test_df1)\n",
    "test_df_X = test_df_dummies.drop(['loan_status_low_risk', 'loan_status_high_risk'], axis=1)\n",
    "print(test_df_X.shape)\n",
    "test_df_y = test_df_dummies['loan_status_low_risk']\n"
   ]
  },
  {
   "cell_type": "code",
   "execution_count": 17,
   "metadata": {},
   "outputs": [
    {
     "name": "stdout",
     "output_type": "stream",
     "text": [
      "(12180, 92)\n"
     ]
    },
    {
     "data": {
      "text/plain": [
       "(12180,)"
      ]
     },
     "execution_count": 17,
     "metadata": {},
     "output_type": "execute_result"
    }
   ],
   "source": [
    "# Convert categorical data to numeric and separate target feature for train data\n",
    "train_df_dummies = pd.get_dummies(train_df1)\n",
    "# train_df_dummies.columns.values.tolist()\n",
    "# train_df_dummies['loan_status_low_risk']\n",
    "train_df_X = train_df_dummies.drop(['loan_status_low_risk', 'loan_status_high_risk'], axis=1)\n",
    "print(train_df_X.shape)\n",
    "train_df_y = train_df_dummies['loan_status_low_risk']\n",
    "# train_df_y.shape"
   ]
  },
  {
   "cell_type": "code",
   "execution_count": 19,
   "metadata": {},
   "outputs": [
    {
     "data": {
      "text/plain": [
       "(4702, 92)"
      ]
     },
     "execution_count": 19,
     "metadata": {},
     "output_type": "execute_result"
    }
   ],
   "source": [
    "# add missing dummy variables to testing set\n",
    "#what columns is missing?\n",
    "# cat = train_df_X.columns.values.tolist()\n",
    "# cleanc1 = []\n",
    "# for col in cat:\n",
    "#  if train_df_X[col].dtype == \"uint8\":\n",
    "#    cleanc1.append(col)\n",
    "# print(cleanc1)\n",
    "\n",
    "# cat = train_df_X.columns.values.tolist()\n",
    "# cleanc = []\n",
    "# for col in cat:\n",
    "#  if test_df_X[col].dtype == \"uint8\":\n",
    "# #    cleanc.append(col)\n",
    "#    print(col,test_df_X[col].dtype )\n",
    "    \n",
    "#missing columns 'debt_settlement_flag_Y'\n",
    "# pd.get_dummies(df).reindex(columns = cats, fill_value=0)\n",
    "\n",
    "test_df_X1 = pd.get_dummies(test_df_X).reindex(columns = ['debt_settlement_flag_Y'], fill_value=0)\n",
    "test_df_X2 = pd.concat([test_df_X,test_df_X1], axis=1, join=\"inner\")\n",
    "test_df_X2.shape\n"
   ]
  },
  {
   "cell_type": "code",
   "execution_count": 22,
   "metadata": {},
   "outputs": [],
   "source": [
    "# model prep\n",
    "from sklearn.model_selection import train_test_split\n",
    "from sklearn.preprocessing import StandardScaler, MinMaxScaler, LabelEncoder\n",
    "\n",
    "y_label = LabelEncoder().fit_transform(train_df_y)\n",
    "y_label\n",
    "X_train, X_test, y_train, y_test = train_test_split(train_df_X, y_label, random_state=1)"
   ]
  },
  {
   "cell_type": "code",
   "execution_count": 39,
   "metadata": {},
   "outputs": [
    {
     "name": "stdout",
     "output_type": "stream",
     "text": [
      "Training Data Score: 0.6522167487684729\n",
      "Testing Data Score: 0.6472906403940887\n",
      "Test Data Score: 0.5161633347511697\n"
     ]
    },
    {
     "name": "stderr",
     "output_type": "stream",
     "text": [
      "C:\\Users\\Julio\\anaconda3\\lib\\site-packages\\sklearn\\linear_model\\_logistic.py:762: ConvergenceWarning: lbfgs failed to converge (status=1):\n",
      "STOP: TOTAL NO. of ITERATIONS REACHED LIMIT.\n",
      "\n",
      "Increase the number of iterations (max_iter) or scale the data as shown in:\n",
      "    https://scikit-learn.org/stable/modules/preprocessing.html\n",
      "Please also refer to the documentation for alternative solver options:\n",
      "    https://scikit-learn.org/stable/modules/linear_model.html#logistic-regression\n",
      "  n_iter_i = _check_optimize_result(\n"
     ]
    }
   ],
   "source": [
    "# Train the Logistic Regression model on the unscaled data and print the model score\n",
    "from sklearn.linear_model import LogisticRegression\n",
    "classifier = LogisticRegression()\n",
    "classifier\n",
    "\n",
    "classifier.fit(X_train, y_train)\n",
    "\n",
    "print(f\"Training Data Score: {classifier.score(X_train, y_train)}\")\n",
    "\n",
    "# classifier.fit(X_test, y_test)\n",
    "\n",
    "print(f\"Testing Data Score: {classifier.score(X_test, y_test)}\")\n",
    "\n",
    "# classifier.fit(test_df_X2,test_df_y)\n",
    "\n",
    "print(f\"Test Data Score: {classifier.score(test_df_X2, test_df_y)}\")\n"
   ]
  },
  {
   "cell_type": "code",
   "execution_count": 38,
   "metadata": {},
   "outputs": [
    {
     "name": "stdout",
     "output_type": "stream",
     "text": [
      "Training Score: 1.0\n",
      "Testing Score: 0.7697865353037767\n",
      "Test Score: 0.6278179498085921\n"
     ]
    }
   ],
   "source": [
    "# Train a Random Forest Classifier model and print the model score\n",
    "from sklearn.ensemble import RandomForestClassifier\n",
    "\n",
    "clf = RandomForestClassifier(random_state=1, n_estimators=92).fit(X_train, y_train)\n",
    "print(f'Training Score: {clf.score(X_train, y_train)}')\n",
    "print(f'Testing Score: {clf.score(X_test, y_test)}')\n",
    "\n",
    "# clf = RandomForestClassifier(random_state=1, n_estimators=92).fit(test_df_X2, test_df_y)\n",
    "print(f'Test Score: {clf.score(test_df_X2, test_df_y)}')\n"
   ]
  },
  {
   "cell_type": "code",
   "execution_count": 32,
   "metadata": {},
   "outputs": [],
   "source": [
    "# Scale the data\n",
    "#train data\n",
    "scaler = StandardScaler().fit(X_train)\n",
    "X_train_scaled = scaler.transform(X_train)\n",
    "X_testing_scaled = scaler.transform(X_test)\n",
    "\n",
    "#test data\n",
    "X_test_scaled = scaler.transform(test_df_X2)"
   ]
  },
  {
   "cell_type": "code",
   "execution_count": 40,
   "metadata": {},
   "outputs": [
    {
     "name": "stdout",
     "output_type": "stream",
     "text": [
      "Training Data Scaled Score: 0.7041050903119869\n",
      "Testing Data Scaled Score: 0.6991789819376026\n",
      "Test Data Scaled Score: 0.7579753296469588\n"
     ]
    },
    {
     "name": "stderr",
     "output_type": "stream",
     "text": [
      "C:\\Users\\Julio\\anaconda3\\lib\\site-packages\\sklearn\\linear_model\\_logistic.py:762: ConvergenceWarning: lbfgs failed to converge (status=1):\n",
      "STOP: TOTAL NO. of ITERATIONS REACHED LIMIT.\n",
      "\n",
      "Increase the number of iterations (max_iter) or scale the data as shown in:\n",
      "    https://scikit-learn.org/stable/modules/preprocessing.html\n",
      "Please also refer to the documentation for alternative solver options:\n",
      "    https://scikit-learn.org/stable/modules/linear_model.html#logistic-regression\n",
      "  n_iter_i = _check_optimize_result(\n"
     ]
    }
   ],
   "source": [
    "# Train the Logistic Regression model on the scaled data and print the model score\n",
    "classifier = LogisticRegression()\n",
    "classifier\n",
    "\n",
    "classifier.fit(X_train_scaled, y_train)\n",
    "\n",
    "print(f\"Training Data Scaled Score: {classifier.score(X_train_scaled, y_train)}\")\n",
    "\n",
    "# classifier.fit(X_testing_scaled, y_test)\n",
    "\n",
    "print(f\"Testing Data Scaled Score: {classifier.score(X_testing_scaled, y_test)}\")\n",
    "\n",
    "# classifier.fit(X_test_scaled,test_df_y)\n",
    "\n",
    "print(f\"Test Data Scaled Score: {classifier.score(X_test_scaled, test_df_y)}\")\n",
    "\n"
   ]
  },
  {
   "cell_type": "code",
   "execution_count": 37,
   "metadata": {},
   "outputs": [
    {
     "name": "stdout",
     "output_type": "stream",
     "text": [
      "Training Scaled Score: 1.0\n",
      "Testing Scaled Score: 0.7694581280788177\n",
      "Test ScaledScore: 0.6290940025521055\n"
     ]
    }
   ],
   "source": [
    "# Train a Random Forest Classifier model on the scaled data and print the model score\n",
    "clf = RandomForestClassifier(random_state=1, n_estimators=92).fit(X_train_scaled, y_train)\n",
    "print(f'Training Scaled Score: {clf.score(X_train_scaled, y_train)}')\n",
    "print(f'Testing Scaled Score: {clf.score(X_testing_scaled, y_test)}')\n",
    "\n",
    "# clf = RandomForestClassifier(random_state=1, n_estimators=92).fit(X_test_scaled, test_df_y)\n",
    "print(f'Test ScaledScore: {clf.score(X_test_scaled, test_df_y)}')"
   ]
  },
  {
   "cell_type": "code",
   "execution_count": null,
   "metadata": {},
   "outputs": [],
   "source": []
  }
 ],
 "metadata": {
  "kernelspec": {
   "display_name": "Python [conda env:root] *",
   "language": "python",
   "name": "conda-root-py"
  },
  "language_info": {
   "codemirror_mode": {
    "name": "ipython",
    "version": 3
   },
   "file_extension": ".py",
   "mimetype": "text/x-python",
   "name": "python",
   "nbconvert_exporter": "python",
   "pygments_lexer": "ipython3",
   "version": "3.8.5"
  }
 },
 "nbformat": 4,
 "nbformat_minor": 4
}
