{
 "cells": [
  {
   "cell_type": "code",
   "execution_count": 1,
   "metadata": {},
   "outputs": [],
   "source": [
    "import numpy as np\n",
    "import pandas as pd\n",
    "from pathlib import Path"
   ]
  },
  {
   "cell_type": "code",
   "execution_count": 2,
   "metadata": {},
   "outputs": [],
   "source": [
    "train_df = pd.read_csv(Path('Resources/2019loans.csv'))\n",
    "test_df = pd.read_csv(Path('Resources/2020Q1loans.csv'))"
   ]
  },
  {
   "cell_type": "code",
   "execution_count": 75,
   "metadata": {},
   "outputs": [
    {
     "name": "stdout",
     "output_type": "stream",
     "text": [
      "(12180, 84)\n",
      "(4702, 84)\n"
     ]
    }
   ],
   "source": [
    "# Clean data, examine dfs\n",
    "\n",
    "# train data\n",
    "# c = train_df.columns.values.tolist()\n",
    "# clean = []\n",
    "# for col in c:\n",
    "#  if train_df[col].dtype == \"object\":\n",
    "#    clean.append(col)\n",
    "# print(clean)\n",
    "# train_df.describe\n",
    "# test_df.shape\n",
    "# train_X = train_df.drop([train_df[1], train_df[2])\n",
    "test_df.iloc[1]\n",
    "# train_df['loan_status']\n",
    "\n",
    "#drop index columns, and results columns\n",
    "train_df1 = train_df.drop(['Unnamed: 0', 'index'], axis=1)\n",
    "test_df1 =test_df.drop(['Unnamed: 0', 'index'], axis=1)\n",
    "print(train_df1.shape)\n",
    "print(test_df1.shape)"
   ]
  },
  {
   "cell_type": "code",
   "execution_count": 89,
   "metadata": {},
   "outputs": [
    {
     "name": "stdout",
     "output_type": "stream",
     "text": [
      "(4702, 91)\n"
     ]
    }
   ],
   "source": [
    "# Convert categorical data to numeric and separate target feature for test data\n",
    "test_df_dummies = pd.get_dummies(test_df1)\n",
    "test_df_X = test_df_dummies.drop(['loan_status_low_risk', 'loan_status_high_risk'], axis=1)\n",
    "print(test_df_X.shape)\n",
    "train_df_y = train_df_dummies['loan_status_low_risk']\n"
   ]
  },
  {
   "cell_type": "code",
   "execution_count": 90,
   "metadata": {},
   "outputs": [
    {
     "name": "stdout",
     "output_type": "stream",
     "text": [
      "(12180, 92)\n"
     ]
    }
   ],
   "source": [
    "# Convert categorical data to numeric and separate target feature for train data\n",
    "train_df_dummies = pd.get_dummies(train_df1)\n",
    "# train_df_dummies.columns.values.tolist()\n",
    "# train_df_dummies['loan_status_low_risk']\n",
    "train_df_X = train_df_dummies.drop(['loan_status_low_risk', 'loan_status_high_risk'], axis=1)\n",
    "print(train_df_X.shape)\n",
    "train_df_y = train_df_dummies['loan_status_low_risk']\n",
    "# train_df_y.head()"
   ]
  },
  {
   "cell_type": "code",
   "execution_count": 106,
   "metadata": {},
   "outputs": [
    {
     "data": {
      "text/plain": [
       "(4702, 92)"
      ]
     },
     "execution_count": 106,
     "metadata": {},
     "output_type": "execute_result"
    }
   ],
   "source": [
    "# add missing dummy variables to testing set\n",
    "#what columns is missing?\n",
    "# cat = train_df_X.columns.values.tolist()\n",
    "# cleanc1 = []\n",
    "# for col in cat:\n",
    "#  if train_df_X[col].dtype == \"uint8\":\n",
    "#    cleanc1.append(col)\n",
    "# print(cleanc1)\n",
    "\n",
    "# cat = train_df_X.columns.values.tolist()\n",
    "# cleanc = []\n",
    "# for col in cat:\n",
    "#  if test_df_X[col].dtype == \"uint8\":\n",
    "# #    cleanc.append(col)\n",
    "#    print(col,test_df_X[col].dtype )\n",
    "    \n",
    "#missing columns 'debt_settlement_flag_Y'\n",
    "# pd.get_dummies(df).reindex(columns = cats, fill_value=0)\n",
    "\n",
    "test_df_X1 = pd.get_dummies(test_df_X).reindex(columns = ['debt_settlement_flag_Y'], fill_value=0)\n",
    "test_df_X2 = pd.concat([test_df_X,test_df_X1], axis=1, join=\"inner\")\n",
    "test_df_X2.shape"
   ]
  },
  {
   "cell_type": "code",
   "execution_count": null,
   "metadata": {},
   "outputs": [],
   "source": [
    "# Train the Logistic Regression model on the unscaled data and print the model score"
   ]
  },
  {
   "cell_type": "code",
   "execution_count": null,
   "metadata": {},
   "outputs": [],
   "source": [
    "# Train a Random Forest Classifier model and print the model score"
   ]
  },
  {
   "cell_type": "code",
   "execution_count": null,
   "metadata": {},
   "outputs": [],
   "source": [
    "# Scale the data"
   ]
  },
  {
   "cell_type": "code",
   "execution_count": null,
   "metadata": {},
   "outputs": [],
   "source": [
    "# Train the Logistic Regression model on the scaled data and print the model score"
   ]
  },
  {
   "cell_type": "code",
   "execution_count": null,
   "metadata": {},
   "outputs": [],
   "source": [
    "# Train a Random Forest Classifier model on the scaled data and print the model score"
   ]
  }
 ],
 "metadata": {
  "kernelspec": {
   "display_name": "Python [conda env:root] *",
   "language": "python",
   "name": "conda-root-py"
  },
  "language_info": {
   "codemirror_mode": {
    "name": "ipython",
    "version": 3
   },
   "file_extension": ".py",
   "mimetype": "text/x-python",
   "name": "python",
   "nbconvert_exporter": "python",
   "pygments_lexer": "ipython3",
   "version": "3.8.5"
  }
 },
 "nbformat": 4,
 "nbformat_minor": 4
}
